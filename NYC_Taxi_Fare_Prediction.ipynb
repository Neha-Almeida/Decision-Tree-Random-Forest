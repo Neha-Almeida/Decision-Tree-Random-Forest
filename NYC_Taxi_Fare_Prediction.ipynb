{
  "cells": [
    {
      "cell_type": "markdown",
      "metadata": {
        "id": "GW7g_rYXlTag"
      },
      "source": [
        "Dataset Information:\n",
        "Column Description\n",
        "unique_id A unique identifier or key for each record in the \n",
        "dataset\n",
        "\n",
        "date_time_of_pickup The time when the ride started\n",
        "\n",
        "longitude_of_pickup Longitude of the taxi ride pickup point\n",
        "\n",
        "latitude_of_pickup Latitude of the taxi ride pickup point\n",
        "\n",
        "longitude__of_dropoff Longitude of the taxi ride dropoff point\n",
        "\n",
        "latitude_of_dropoff Latitude of the taxi ride dropoff point\n",
        "\n",
        "no_of_passenger count of the passengers during the ride\n",
        "\n",
        "amount (target variable)dollar amount of the cost of the taxi \n",
        "ride"
      ]
    },
    {
      "cell_type": "markdown",
      "metadata": {
        "id": "fJ9bb-wq97t_"
      },
      "source": [
        "1. Importing Librabries"
      ]
    },
    {
      "cell_type": "code",
      "execution_count": null,
      "metadata": {
        "id": "aT4rXQamks2M"
      },
      "outputs": [],
      "source": [
        "import pandas as pd \n",
        "import numpy as np\n",
        "import matplotlib.pyplot as plt\n",
        "import seaborn as sn"
      ]
    },
    {
      "cell_type": "markdown",
      "metadata": {
        "id": "GGGsPnSB-A13"
      },
      "source": [
        "2. 2. Reading and loading data:"
      ]
    },
    {
      "cell_type": "code",
      "execution_count": null,
      "metadata": {
        "colab": {
          "base_uri": "https://localhost:8080/",
          "height": 423
        },
        "id": "q-qKx5DGlvzd",
        "outputId": "c1282fcb-6cf2-410d-f1fd-3f9b463534c1"
      },
      "outputs": [
        {
          "output_type": "execute_result",
          "data": {
            "text/plain": [
              "      unique_id  amount      date_time_of_pickup  longitude_of_pickup  \\\n",
              "0       26:21.0     4.5  2009-06-15 17:26:21 UTC           -73.844311   \n",
              "1       52:16.0    16.9  2010-01-05 16:52:16 UTC           -74.016048   \n",
              "2       35:00.0     5.7  2011-08-18 00:35:00 UTC           -73.982738   \n",
              "3       30:42.0     7.7  2012-04-21 04:30:42 UTC           -73.987130   \n",
              "4       51:00.0     5.3  2010-03-09 07:51:00 UTC           -73.968095   \n",
              "...         ...     ...                      ...                  ...   \n",
              "49995   25:15.0    15.0  2013-06-12 23:25:15 UTC           -73.999973   \n",
              "49996   19:18.0     7.5  2015-06-22 17:19:18 UTC           -73.984756   \n",
              "49997   53:00.0     6.9  2011-01-30 04:53:00 UTC           -74.002698   \n",
              "49998   09:00.0     4.5  2012-11-06 07:09:00 UTC           -73.946062   \n",
              "49999   13:14.0    10.9  2010-01-13 08:13:14 UTC           -73.932603   \n",
              "\n",
              "       latitude_of_pickup  longitude_of_dropoff  latitude_of_dropoff  \\\n",
              "0               40.721319            -73.841610            40.712278   \n",
              "1               40.711303            -73.979268            40.782004   \n",
              "2               40.761270            -73.991242            40.750562   \n",
              "3               40.733143            -73.991567            40.758092   \n",
              "4               40.768008            -73.956655            40.783762   \n",
              "...                   ...                   ...                  ...   \n",
              "49995           40.748531            -74.016899            40.705993   \n",
              "49996           40.768211            -73.987366            40.760597   \n",
              "49997           40.739428            -73.998108            40.759483   \n",
              "49998           40.777567            -73.953450            40.779687   \n",
              "49999           40.763805            -73.932603            40.763805   \n",
              "\n",
              "       no_of_passenger  \n",
              "0                    1  \n",
              "1                    1  \n",
              "2                    2  \n",
              "3                    1  \n",
              "4                    1  \n",
              "...                ...  \n",
              "49995                1  \n",
              "49996                1  \n",
              "49997                1  \n",
              "49998                2  \n",
              "49999                1  \n",
              "\n",
              "[50000 rows x 8 columns]"
            ],
            "text/html": [
              "\n",
              "  <div id=\"df-6f4b4ac2-2beb-458b-9f91-ad485ccb20e8\">\n",
              "    <div class=\"colab-df-container\">\n",
              "      <div>\n",
              "<style scoped>\n",
              "    .dataframe tbody tr th:only-of-type {\n",
              "        vertical-align: middle;\n",
              "    }\n",
              "\n",
              "    .dataframe tbody tr th {\n",
              "        vertical-align: top;\n",
              "    }\n",
              "\n",
              "    .dataframe thead th {\n",
              "        text-align: right;\n",
              "    }\n",
              "</style>\n",
              "<table border=\"1\" class=\"dataframe\">\n",
              "  <thead>\n",
              "    <tr style=\"text-align: right;\">\n",
              "      <th></th>\n",
              "      <th>unique_id</th>\n",
              "      <th>amount</th>\n",
              "      <th>date_time_of_pickup</th>\n",
              "      <th>longitude_of_pickup</th>\n",
              "      <th>latitude_of_pickup</th>\n",
              "      <th>longitude_of_dropoff</th>\n",
              "      <th>latitude_of_dropoff</th>\n",
              "      <th>no_of_passenger</th>\n",
              "    </tr>\n",
              "  </thead>\n",
              "  <tbody>\n",
              "    <tr>\n",
              "      <th>0</th>\n",
              "      <td>26:21.0</td>\n",
              "      <td>4.5</td>\n",
              "      <td>2009-06-15 17:26:21 UTC</td>\n",
              "      <td>-73.844311</td>\n",
              "      <td>40.721319</td>\n",
              "      <td>-73.841610</td>\n",
              "      <td>40.712278</td>\n",
              "      <td>1</td>\n",
              "    </tr>\n",
              "    <tr>\n",
              "      <th>1</th>\n",
              "      <td>52:16.0</td>\n",
              "      <td>16.9</td>\n",
              "      <td>2010-01-05 16:52:16 UTC</td>\n",
              "      <td>-74.016048</td>\n",
              "      <td>40.711303</td>\n",
              "      <td>-73.979268</td>\n",
              "      <td>40.782004</td>\n",
              "      <td>1</td>\n",
              "    </tr>\n",
              "    <tr>\n",
              "      <th>2</th>\n",
              "      <td>35:00.0</td>\n",
              "      <td>5.7</td>\n",
              "      <td>2011-08-18 00:35:00 UTC</td>\n",
              "      <td>-73.982738</td>\n",
              "      <td>40.761270</td>\n",
              "      <td>-73.991242</td>\n",
              "      <td>40.750562</td>\n",
              "      <td>2</td>\n",
              "    </tr>\n",
              "    <tr>\n",
              "      <th>3</th>\n",
              "      <td>30:42.0</td>\n",
              "      <td>7.7</td>\n",
              "      <td>2012-04-21 04:30:42 UTC</td>\n",
              "      <td>-73.987130</td>\n",
              "      <td>40.733143</td>\n",
              "      <td>-73.991567</td>\n",
              "      <td>40.758092</td>\n",
              "      <td>1</td>\n",
              "    </tr>\n",
              "    <tr>\n",
              "      <th>4</th>\n",
              "      <td>51:00.0</td>\n",
              "      <td>5.3</td>\n",
              "      <td>2010-03-09 07:51:00 UTC</td>\n",
              "      <td>-73.968095</td>\n",
              "      <td>40.768008</td>\n",
              "      <td>-73.956655</td>\n",
              "      <td>40.783762</td>\n",
              "      <td>1</td>\n",
              "    </tr>\n",
              "    <tr>\n",
              "      <th>...</th>\n",
              "      <td>...</td>\n",
              "      <td>...</td>\n",
              "      <td>...</td>\n",
              "      <td>...</td>\n",
              "      <td>...</td>\n",
              "      <td>...</td>\n",
              "      <td>...</td>\n",
              "      <td>...</td>\n",
              "    </tr>\n",
              "    <tr>\n",
              "      <th>49995</th>\n",
              "      <td>25:15.0</td>\n",
              "      <td>15.0</td>\n",
              "      <td>2013-06-12 23:25:15 UTC</td>\n",
              "      <td>-73.999973</td>\n",
              "      <td>40.748531</td>\n",
              "      <td>-74.016899</td>\n",
              "      <td>40.705993</td>\n",
              "      <td>1</td>\n",
              "    </tr>\n",
              "    <tr>\n",
              "      <th>49996</th>\n",
              "      <td>19:18.0</td>\n",
              "      <td>7.5</td>\n",
              "      <td>2015-06-22 17:19:18 UTC</td>\n",
              "      <td>-73.984756</td>\n",
              "      <td>40.768211</td>\n",
              "      <td>-73.987366</td>\n",
              "      <td>40.760597</td>\n",
              "      <td>1</td>\n",
              "    </tr>\n",
              "    <tr>\n",
              "      <th>49997</th>\n",
              "      <td>53:00.0</td>\n",
              "      <td>6.9</td>\n",
              "      <td>2011-01-30 04:53:00 UTC</td>\n",
              "      <td>-74.002698</td>\n",
              "      <td>40.739428</td>\n",
              "      <td>-73.998108</td>\n",
              "      <td>40.759483</td>\n",
              "      <td>1</td>\n",
              "    </tr>\n",
              "    <tr>\n",
              "      <th>49998</th>\n",
              "      <td>09:00.0</td>\n",
              "      <td>4.5</td>\n",
              "      <td>2012-11-06 07:09:00 UTC</td>\n",
              "      <td>-73.946062</td>\n",
              "      <td>40.777567</td>\n",
              "      <td>-73.953450</td>\n",
              "      <td>40.779687</td>\n",
              "      <td>2</td>\n",
              "    </tr>\n",
              "    <tr>\n",
              "      <th>49999</th>\n",
              "      <td>13:14.0</td>\n",
              "      <td>10.9</td>\n",
              "      <td>2010-01-13 08:13:14 UTC</td>\n",
              "      <td>-73.932603</td>\n",
              "      <td>40.763805</td>\n",
              "      <td>-73.932603</td>\n",
              "      <td>40.763805</td>\n",
              "      <td>1</td>\n",
              "    </tr>\n",
              "  </tbody>\n",
              "</table>\n",
              "<p>50000 rows × 8 columns</p>\n",
              "</div>\n",
              "      <button class=\"colab-df-convert\" onclick=\"convertToInteractive('df-6f4b4ac2-2beb-458b-9f91-ad485ccb20e8')\"\n",
              "              title=\"Convert this dataframe to an interactive table.\"\n",
              "              style=\"display:none;\">\n",
              "        \n",
              "  <svg xmlns=\"http://www.w3.org/2000/svg\" height=\"24px\"viewBox=\"0 0 24 24\"\n",
              "       width=\"24px\">\n",
              "    <path d=\"M0 0h24v24H0V0z\" fill=\"none\"/>\n",
              "    <path d=\"M18.56 5.44l.94 2.06.94-2.06 2.06-.94-2.06-.94-.94-2.06-.94 2.06-2.06.94zm-11 1L8.5 8.5l.94-2.06 2.06-.94-2.06-.94L8.5 2.5l-.94 2.06-2.06.94zm10 10l.94 2.06.94-2.06 2.06-.94-2.06-.94-.94-2.06-.94 2.06-2.06.94z\"/><path d=\"M17.41 7.96l-1.37-1.37c-.4-.4-.92-.59-1.43-.59-.52 0-1.04.2-1.43.59L10.3 9.45l-7.72 7.72c-.78.78-.78 2.05 0 2.83L4 21.41c.39.39.9.59 1.41.59.51 0 1.02-.2 1.41-.59l7.78-7.78 2.81-2.81c.8-.78.8-2.07 0-2.86zM5.41 20L4 18.59l7.72-7.72 1.47 1.35L5.41 20z\"/>\n",
              "  </svg>\n",
              "      </button>\n",
              "      \n",
              "  <style>\n",
              "    .colab-df-container {\n",
              "      display:flex;\n",
              "      flex-wrap:wrap;\n",
              "      gap: 12px;\n",
              "    }\n",
              "\n",
              "    .colab-df-convert {\n",
              "      background-color: #E8F0FE;\n",
              "      border: none;\n",
              "      border-radius: 50%;\n",
              "      cursor: pointer;\n",
              "      display: none;\n",
              "      fill: #1967D2;\n",
              "      height: 32px;\n",
              "      padding: 0 0 0 0;\n",
              "      width: 32px;\n",
              "    }\n",
              "\n",
              "    .colab-df-convert:hover {\n",
              "      background-color: #E2EBFA;\n",
              "      box-shadow: 0px 1px 2px rgba(60, 64, 67, 0.3), 0px 1px 3px 1px rgba(60, 64, 67, 0.15);\n",
              "      fill: #174EA6;\n",
              "    }\n",
              "\n",
              "    [theme=dark] .colab-df-convert {\n",
              "      background-color: #3B4455;\n",
              "      fill: #D2E3FC;\n",
              "    }\n",
              "\n",
              "    [theme=dark] .colab-df-convert:hover {\n",
              "      background-color: #434B5C;\n",
              "      box-shadow: 0px 1px 3px 1px rgba(0, 0, 0, 0.15);\n",
              "      filter: drop-shadow(0px 1px 2px rgba(0, 0, 0, 0.3));\n",
              "      fill: #FFFFFF;\n",
              "    }\n",
              "  </style>\n",
              "\n",
              "      <script>\n",
              "        const buttonEl =\n",
              "          document.querySelector('#df-6f4b4ac2-2beb-458b-9f91-ad485ccb20e8 button.colab-df-convert');\n",
              "        buttonEl.style.display =\n",
              "          google.colab.kernel.accessAllowed ? 'block' : 'none';\n",
              "\n",
              "        async function convertToInteractive(key) {\n",
              "          const element = document.querySelector('#df-6f4b4ac2-2beb-458b-9f91-ad485ccb20e8');\n",
              "          const dataTable =\n",
              "            await google.colab.kernel.invokeFunction('convertToInteractive',\n",
              "                                                     [key], {});\n",
              "          if (!dataTable) return;\n",
              "\n",
              "          const docLinkHtml = 'Like what you see? Visit the ' +\n",
              "            '<a target=\"_blank\" href=https://colab.research.google.com/notebooks/data_table.ipynb>data table notebook</a>'\n",
              "            + ' to learn more about interactive tables.';\n",
              "          element.innerHTML = '';\n",
              "          dataTable['output_type'] = 'display_data';\n",
              "          await google.colab.output.renderOutput(dataTable, element);\n",
              "          const docLink = document.createElement('div');\n",
              "          docLink.innerHTML = docLinkHtml;\n",
              "          element.appendChild(docLink);\n",
              "        }\n",
              "      </script>\n",
              "    </div>\n",
              "  </div>\n",
              "  "
            ]
          },
          "metadata": {},
          "execution_count": 102
        }
      ],
      "source": [
        "df = pd.read_csv(\"/content/taxi_fare.csv\")\n",
        "df"
      ]
    },
    {
      "cell_type": "markdown",
      "metadata": {
        "id": "62I6a9r5-OCg"
      },
      "source": [
        "3. EDA :"
      ]
    },
    {
      "cell_type": "code",
      "execution_count": null,
      "metadata": {
        "colab": {
          "base_uri": "https://localhost:8080/"
        },
        "id": "e5upmU77mQ-b",
        "outputId": "cbc9f890-f11c-47a2-c692-5a3a718a5b6e"
      },
      "outputs": [
        {
          "output_type": "execute_result",
          "data": {
            "text/plain": [
              "(50000, 8)"
            ]
          },
          "metadata": {},
          "execution_count": 103
        }
      ],
      "source": [
        "df.shape"
      ]
    },
    {
      "cell_type": "markdown",
      "metadata": {
        "id": "7MsysOTx8ydb"
      },
      "source": [
        "insights:\n",
        "\n",
        "50000 cab booking details were gathered as a sample from the population, and each booking was represented by 8 traits."
      ]
    },
    {
      "cell_type": "code",
      "execution_count": null,
      "metadata": {
        "colab": {
          "base_uri": "https://localhost:8080/"
        },
        "id": "vDTw4fISmU3u",
        "outputId": "081770e2-27ea-4ff0-e6ec-ecc8ae79e5ea"
      },
      "outputs": [
        {
          "output_type": "execute_result",
          "data": {
            "text/plain": [
              "unique_id                object\n",
              "amount                  float64\n",
              "date_time_of_pickup      object\n",
              "longitude_of_pickup     float64\n",
              "latitude_of_pickup      float64\n",
              "longitude_of_dropoff    float64\n",
              "latitude_of_dropoff     float64\n",
              "no_of_passenger           int64\n",
              "dtype: object"
            ]
          },
          "metadata": {},
          "execution_count": 104
        }
      ],
      "source": [
        "df.dtypes"
      ]
    },
    {
      "cell_type": "code",
      "execution_count": null,
      "metadata": {
        "colab": {
          "base_uri": "https://localhost:8080/"
        },
        "id": "qnJobM86mpUs",
        "outputId": "35f51e0e-7086-435e-9c39-313c4f4a575f"
      },
      "outputs": [
        {
          "output_type": "stream",
          "name": "stdout",
          "text": [
            "<class 'pandas.core.frame.DataFrame'>\n",
            "RangeIndex: 50000 entries, 0 to 49999\n",
            "Data columns (total 8 columns):\n",
            " #   Column                Non-Null Count  Dtype  \n",
            "---  ------                --------------  -----  \n",
            " 0   unique_id             50000 non-null  object \n",
            " 1   amount                50000 non-null  float64\n",
            " 2   date_time_of_pickup   50000 non-null  object \n",
            " 3   longitude_of_pickup   50000 non-null  float64\n",
            " 4   latitude_of_pickup    50000 non-null  float64\n",
            " 5   longitude_of_dropoff  50000 non-null  float64\n",
            " 6   latitude_of_dropoff   50000 non-null  float64\n",
            " 7   no_of_passenger       50000 non-null  int64  \n",
            "dtypes: float64(5), int64(1), object(2)\n",
            "memory usage: 3.1+ MB\n"
          ]
        }
      ],
      "source": [
        "df.info()"
      ]
    },
    {
      "cell_type": "markdown",
      "metadata": {
        "id": "50dp4AZa-ue3"
      },
      "source": [
        "insights:\n",
        "\n",
        "Our dataset has 8 features, 7 of which are independant featuers and 1 of which is dependant.\n",
        "\n",
        "independent features: unique_id , date_time_of_pickup,longitude_of_pickup, latitude_of_pickup,longitude_of_dropoff,latitude_of_dropoff, no_of_passenger.\n",
        "\n",
        "Dependant feature : amount\n",
        "\n",
        "among all features only date_time_of_pickup is need to covert. since it is a object data.\n",
        "\n"
      ]
    },
    {
      "cell_type": "code",
      "execution_count": null,
      "metadata": {
        "colab": {
          "base_uri": "https://localhost:8080/",
          "height": 300
        },
        "id": "gfB80A5wmsYQ",
        "outputId": "23946400-c67d-4af7-bd6d-f4a08911639a"
      },
      "outputs": [
        {
          "output_type": "execute_result",
          "data": {
            "text/plain": [
              "             amount  longitude_of_pickup  latitude_of_pickup  \\\n",
              "count  50000.000000         50000.000000        50000.000000   \n",
              "mean      11.364171           -72.509756           39.933759   \n",
              "std        9.685557            10.393860            6.224857   \n",
              "min       -5.000000           -75.423848          -74.006893   \n",
              "25%        6.000000           -73.992062           40.734880   \n",
              "50%        8.500000           -73.981840           40.752678   \n",
              "75%       12.500000           -73.967148           40.767360   \n",
              "max      200.000000            40.783472          401.083332   \n",
              "\n",
              "       longitude_of_dropoff  latitude_of_dropoff  no_of_passenger  \n",
              "count          50000.000000         50000.000000     50000.000000  \n",
              "mean             -72.504616            39.926251         1.667840  \n",
              "std               10.407570             6.014737         1.289195  \n",
              "min              -84.654241           -74.006377         0.000000  \n",
              "25%              -73.991152            40.734372         1.000000  \n",
              "50%              -73.980082            40.753372         1.000000  \n",
              "75%              -73.963584            40.768167         2.000000  \n",
              "max               40.851027            43.415190         6.000000  "
            ],
            "text/html": [
              "\n",
              "  <div id=\"df-748730f4-9e01-4b11-98c1-1eea85e4f6b0\">\n",
              "    <div class=\"colab-df-container\">\n",
              "      <div>\n",
              "<style scoped>\n",
              "    .dataframe tbody tr th:only-of-type {\n",
              "        vertical-align: middle;\n",
              "    }\n",
              "\n",
              "    .dataframe tbody tr th {\n",
              "        vertical-align: top;\n",
              "    }\n",
              "\n",
              "    .dataframe thead th {\n",
              "        text-align: right;\n",
              "    }\n",
              "</style>\n",
              "<table border=\"1\" class=\"dataframe\">\n",
              "  <thead>\n",
              "    <tr style=\"text-align: right;\">\n",
              "      <th></th>\n",
              "      <th>amount</th>\n",
              "      <th>longitude_of_pickup</th>\n",
              "      <th>latitude_of_pickup</th>\n",
              "      <th>longitude_of_dropoff</th>\n",
              "      <th>latitude_of_dropoff</th>\n",
              "      <th>no_of_passenger</th>\n",
              "    </tr>\n",
              "  </thead>\n",
              "  <tbody>\n",
              "    <tr>\n",
              "      <th>count</th>\n",
              "      <td>50000.000000</td>\n",
              "      <td>50000.000000</td>\n",
              "      <td>50000.000000</td>\n",
              "      <td>50000.000000</td>\n",
              "      <td>50000.000000</td>\n",
              "      <td>50000.000000</td>\n",
              "    </tr>\n",
              "    <tr>\n",
              "      <th>mean</th>\n",
              "      <td>11.364171</td>\n",
              "      <td>-72.509756</td>\n",
              "      <td>39.933759</td>\n",
              "      <td>-72.504616</td>\n",
              "      <td>39.926251</td>\n",
              "      <td>1.667840</td>\n",
              "    </tr>\n",
              "    <tr>\n",
              "      <th>std</th>\n",
              "      <td>9.685557</td>\n",
              "      <td>10.393860</td>\n",
              "      <td>6.224857</td>\n",
              "      <td>10.407570</td>\n",
              "      <td>6.014737</td>\n",
              "      <td>1.289195</td>\n",
              "    </tr>\n",
              "    <tr>\n",
              "      <th>min</th>\n",
              "      <td>-5.000000</td>\n",
              "      <td>-75.423848</td>\n",
              "      <td>-74.006893</td>\n",
              "      <td>-84.654241</td>\n",
              "      <td>-74.006377</td>\n",
              "      <td>0.000000</td>\n",
              "    </tr>\n",
              "    <tr>\n",
              "      <th>25%</th>\n",
              "      <td>6.000000</td>\n",
              "      <td>-73.992062</td>\n",
              "      <td>40.734880</td>\n",
              "      <td>-73.991152</td>\n",
              "      <td>40.734372</td>\n",
              "      <td>1.000000</td>\n",
              "    </tr>\n",
              "    <tr>\n",
              "      <th>50%</th>\n",
              "      <td>8.500000</td>\n",
              "      <td>-73.981840</td>\n",
              "      <td>40.752678</td>\n",
              "      <td>-73.980082</td>\n",
              "      <td>40.753372</td>\n",
              "      <td>1.000000</td>\n",
              "    </tr>\n",
              "    <tr>\n",
              "      <th>75%</th>\n",
              "      <td>12.500000</td>\n",
              "      <td>-73.967148</td>\n",
              "      <td>40.767360</td>\n",
              "      <td>-73.963584</td>\n",
              "      <td>40.768167</td>\n",
              "      <td>2.000000</td>\n",
              "    </tr>\n",
              "    <tr>\n",
              "      <th>max</th>\n",
              "      <td>200.000000</td>\n",
              "      <td>40.783472</td>\n",
              "      <td>401.083332</td>\n",
              "      <td>40.851027</td>\n",
              "      <td>43.415190</td>\n",
              "      <td>6.000000</td>\n",
              "    </tr>\n",
              "  </tbody>\n",
              "</table>\n",
              "</div>\n",
              "      <button class=\"colab-df-convert\" onclick=\"convertToInteractive('df-748730f4-9e01-4b11-98c1-1eea85e4f6b0')\"\n",
              "              title=\"Convert this dataframe to an interactive table.\"\n",
              "              style=\"display:none;\">\n",
              "        \n",
              "  <svg xmlns=\"http://www.w3.org/2000/svg\" height=\"24px\"viewBox=\"0 0 24 24\"\n",
              "       width=\"24px\">\n",
              "    <path d=\"M0 0h24v24H0V0z\" fill=\"none\"/>\n",
              "    <path d=\"M18.56 5.44l.94 2.06.94-2.06 2.06-.94-2.06-.94-.94-2.06-.94 2.06-2.06.94zm-11 1L8.5 8.5l.94-2.06 2.06-.94-2.06-.94L8.5 2.5l-.94 2.06-2.06.94zm10 10l.94 2.06.94-2.06 2.06-.94-2.06-.94-.94-2.06-.94 2.06-2.06.94z\"/><path d=\"M17.41 7.96l-1.37-1.37c-.4-.4-.92-.59-1.43-.59-.52 0-1.04.2-1.43.59L10.3 9.45l-7.72 7.72c-.78.78-.78 2.05 0 2.83L4 21.41c.39.39.9.59 1.41.59.51 0 1.02-.2 1.41-.59l7.78-7.78 2.81-2.81c.8-.78.8-2.07 0-2.86zM5.41 20L4 18.59l7.72-7.72 1.47 1.35L5.41 20z\"/>\n",
              "  </svg>\n",
              "      </button>\n",
              "      \n",
              "  <style>\n",
              "    .colab-df-container {\n",
              "      display:flex;\n",
              "      flex-wrap:wrap;\n",
              "      gap: 12px;\n",
              "    }\n",
              "\n",
              "    .colab-df-convert {\n",
              "      background-color: #E8F0FE;\n",
              "      border: none;\n",
              "      border-radius: 50%;\n",
              "      cursor: pointer;\n",
              "      display: none;\n",
              "      fill: #1967D2;\n",
              "      height: 32px;\n",
              "      padding: 0 0 0 0;\n",
              "      width: 32px;\n",
              "    }\n",
              "\n",
              "    .colab-df-convert:hover {\n",
              "      background-color: #E2EBFA;\n",
              "      box-shadow: 0px 1px 2px rgba(60, 64, 67, 0.3), 0px 1px 3px 1px rgba(60, 64, 67, 0.15);\n",
              "      fill: #174EA6;\n",
              "    }\n",
              "\n",
              "    [theme=dark] .colab-df-convert {\n",
              "      background-color: #3B4455;\n",
              "      fill: #D2E3FC;\n",
              "    }\n",
              "\n",
              "    [theme=dark] .colab-df-convert:hover {\n",
              "      background-color: #434B5C;\n",
              "      box-shadow: 0px 1px 3px 1px rgba(0, 0, 0, 0.15);\n",
              "      filter: drop-shadow(0px 1px 2px rgba(0, 0, 0, 0.3));\n",
              "      fill: #FFFFFF;\n",
              "    }\n",
              "  </style>\n",
              "\n",
              "      <script>\n",
              "        const buttonEl =\n",
              "          document.querySelector('#df-748730f4-9e01-4b11-98c1-1eea85e4f6b0 button.colab-df-convert');\n",
              "        buttonEl.style.display =\n",
              "          google.colab.kernel.accessAllowed ? 'block' : 'none';\n",
              "\n",
              "        async function convertToInteractive(key) {\n",
              "          const element = document.querySelector('#df-748730f4-9e01-4b11-98c1-1eea85e4f6b0');\n",
              "          const dataTable =\n",
              "            await google.colab.kernel.invokeFunction('convertToInteractive',\n",
              "                                                     [key], {});\n",
              "          if (!dataTable) return;\n",
              "\n",
              "          const docLinkHtml = 'Like what you see? Visit the ' +\n",
              "            '<a target=\"_blank\" href=https://colab.research.google.com/notebooks/data_table.ipynb>data table notebook</a>'\n",
              "            + ' to learn more about interactive tables.';\n",
              "          element.innerHTML = '';\n",
              "          dataTable['output_type'] = 'display_data';\n",
              "          await google.colab.output.renderOutput(dataTable, element);\n",
              "          const docLink = document.createElement('div');\n",
              "          docLink.innerHTML = docLinkHtml;\n",
              "          element.appendChild(docLink);\n",
              "        }\n",
              "      </script>\n",
              "    </div>\n",
              "  </div>\n",
              "  "
            ]
          },
          "metadata": {},
          "execution_count": 106
        }
      ],
      "source": [
        "df.describe()"
      ]
    },
    {
      "cell_type": "markdown",
      "metadata": {
        "id": "lLN5GvjBCP0X"
      },
      "source": [
        "Insights:\n",
        "\n",
        "The average taxi fare amount is $11 Dollers.\n",
        "\n",
        "There are few datapoints contain negative fare amounts, This could be outliers.\n",
        "\n",
        "Latitude and longitude coordinates do not reveal any more information. But we can say that it contains very few outliers.\n",
        "\n",
        "The maximum Pickup longitude is 40.783472 & minimum longitude is -75.423848.\n",
        "\n",
        "The maximum Pickup latitude is401.083332 & minimum longitude is -74.006893.\n",
        "\n",
        "The maximum Dropoff latitude is 43.415190 & minimum longitude is -84.654241.\n",
        "\n",
        "There are few datapoints with zero passenger count.We occasionally utilize taxi to transport goods, so we can't claim with certainty that these are outliers. However, we may examine whether or not the test datapoints have no passengers.\n",
        "\n",
        "\n",
        "\n",
        "\n",
        "\n",
        "\n",
        "\n",
        "\n"
      ]
    },
    {
      "cell_type": "code",
      "execution_count": null,
      "metadata": {
        "colab": {
          "base_uri": "https://localhost:8080/",
          "height": 247
        },
        "id": "hrtxnZ1i6E2W",
        "outputId": "88683f71-8472-44df-c749-4f8f974b22f3"
      },
      "outputs": [
        {
          "output_type": "stream",
          "name": "stderr",
          "text": [
            "<ipython-input-107-779cebbdad30>:1: DeprecationWarning: `np.object` is a deprecated alias for the builtin `object`. To silence this warning, use `object` by itself. Doing this will not modify any behavior and is safe. \n",
            "Deprecated in NumPy 1.20; for more details and guidance: https://numpy.org/devdocs/release/1.20.0-notes.html#deprecations\n",
            "  df.describe(include=np.object) # statistic about categorical data features in dataset.\n"
          ]
        },
        {
          "output_type": "execute_result",
          "data": {
            "text/plain": [
              "       unique_id      date_time_of_pickup\n",
              "count      50000                    50000\n",
              "unique      3597                    49555\n",
              "top      26:00.0  2011-09-03 01:30:00 UTC\n",
              "freq         457                        3"
            ],
            "text/html": [
              "\n",
              "  <div id=\"df-e5f57165-77f3-4f57-9c9e-cbc8458e5aca\">\n",
              "    <div class=\"colab-df-container\">\n",
              "      <div>\n",
              "<style scoped>\n",
              "    .dataframe tbody tr th:only-of-type {\n",
              "        vertical-align: middle;\n",
              "    }\n",
              "\n",
              "    .dataframe tbody tr th {\n",
              "        vertical-align: top;\n",
              "    }\n",
              "\n",
              "    .dataframe thead th {\n",
              "        text-align: right;\n",
              "    }\n",
              "</style>\n",
              "<table border=\"1\" class=\"dataframe\">\n",
              "  <thead>\n",
              "    <tr style=\"text-align: right;\">\n",
              "      <th></th>\n",
              "      <th>unique_id</th>\n",
              "      <th>date_time_of_pickup</th>\n",
              "    </tr>\n",
              "  </thead>\n",
              "  <tbody>\n",
              "    <tr>\n",
              "      <th>count</th>\n",
              "      <td>50000</td>\n",
              "      <td>50000</td>\n",
              "    </tr>\n",
              "    <tr>\n",
              "      <th>unique</th>\n",
              "      <td>3597</td>\n",
              "      <td>49555</td>\n",
              "    </tr>\n",
              "    <tr>\n",
              "      <th>top</th>\n",
              "      <td>26:00.0</td>\n",
              "      <td>2011-09-03 01:30:00 UTC</td>\n",
              "    </tr>\n",
              "    <tr>\n",
              "      <th>freq</th>\n",
              "      <td>457</td>\n",
              "      <td>3</td>\n",
              "    </tr>\n",
              "  </tbody>\n",
              "</table>\n",
              "</div>\n",
              "      <button class=\"colab-df-convert\" onclick=\"convertToInteractive('df-e5f57165-77f3-4f57-9c9e-cbc8458e5aca')\"\n",
              "              title=\"Convert this dataframe to an interactive table.\"\n",
              "              style=\"display:none;\">\n",
              "        \n",
              "  <svg xmlns=\"http://www.w3.org/2000/svg\" height=\"24px\"viewBox=\"0 0 24 24\"\n",
              "       width=\"24px\">\n",
              "    <path d=\"M0 0h24v24H0V0z\" fill=\"none\"/>\n",
              "    <path d=\"M18.56 5.44l.94 2.06.94-2.06 2.06-.94-2.06-.94-.94-2.06-.94 2.06-2.06.94zm-11 1L8.5 8.5l.94-2.06 2.06-.94-2.06-.94L8.5 2.5l-.94 2.06-2.06.94zm10 10l.94 2.06.94-2.06 2.06-.94-2.06-.94-.94-2.06-.94 2.06-2.06.94z\"/><path d=\"M17.41 7.96l-1.37-1.37c-.4-.4-.92-.59-1.43-.59-.52 0-1.04.2-1.43.59L10.3 9.45l-7.72 7.72c-.78.78-.78 2.05 0 2.83L4 21.41c.39.39.9.59 1.41.59.51 0 1.02-.2 1.41-.59l7.78-7.78 2.81-2.81c.8-.78.8-2.07 0-2.86zM5.41 20L4 18.59l7.72-7.72 1.47 1.35L5.41 20z\"/>\n",
              "  </svg>\n",
              "      </button>\n",
              "      \n",
              "  <style>\n",
              "    .colab-df-container {\n",
              "      display:flex;\n",
              "      flex-wrap:wrap;\n",
              "      gap: 12px;\n",
              "    }\n",
              "\n",
              "    .colab-df-convert {\n",
              "      background-color: #E8F0FE;\n",
              "      border: none;\n",
              "      border-radius: 50%;\n",
              "      cursor: pointer;\n",
              "      display: none;\n",
              "      fill: #1967D2;\n",
              "      height: 32px;\n",
              "      padding: 0 0 0 0;\n",
              "      width: 32px;\n",
              "    }\n",
              "\n",
              "    .colab-df-convert:hover {\n",
              "      background-color: #E2EBFA;\n",
              "      box-shadow: 0px 1px 2px rgba(60, 64, 67, 0.3), 0px 1px 3px 1px rgba(60, 64, 67, 0.15);\n",
              "      fill: #174EA6;\n",
              "    }\n",
              "\n",
              "    [theme=dark] .colab-df-convert {\n",
              "      background-color: #3B4455;\n",
              "      fill: #D2E3FC;\n",
              "    }\n",
              "\n",
              "    [theme=dark] .colab-df-convert:hover {\n",
              "      background-color: #434B5C;\n",
              "      box-shadow: 0px 1px 3px 1px rgba(0, 0, 0, 0.15);\n",
              "      filter: drop-shadow(0px 1px 2px rgba(0, 0, 0, 0.3));\n",
              "      fill: #FFFFFF;\n",
              "    }\n",
              "  </style>\n",
              "\n",
              "      <script>\n",
              "        const buttonEl =\n",
              "          document.querySelector('#df-e5f57165-77f3-4f57-9c9e-cbc8458e5aca button.colab-df-convert');\n",
              "        buttonEl.style.display =\n",
              "          google.colab.kernel.accessAllowed ? 'block' : 'none';\n",
              "\n",
              "        async function convertToInteractive(key) {\n",
              "          const element = document.querySelector('#df-e5f57165-77f3-4f57-9c9e-cbc8458e5aca');\n",
              "          const dataTable =\n",
              "            await google.colab.kernel.invokeFunction('convertToInteractive',\n",
              "                                                     [key], {});\n",
              "          if (!dataTable) return;\n",
              "\n",
              "          const docLinkHtml = 'Like what you see? Visit the ' +\n",
              "            '<a target=\"_blank\" href=https://colab.research.google.com/notebooks/data_table.ipynb>data table notebook</a>'\n",
              "            + ' to learn more about interactive tables.';\n",
              "          element.innerHTML = '';\n",
              "          dataTable['output_type'] = 'display_data';\n",
              "          await google.colab.output.renderOutput(dataTable, element);\n",
              "          const docLink = document.createElement('div');\n",
              "          docLink.innerHTML = docLinkHtml;\n",
              "          element.appendChild(docLink);\n",
              "        }\n",
              "      </script>\n",
              "    </div>\n",
              "  </div>\n",
              "  "
            ]
          },
          "metadata": {},
          "execution_count": 107
        }
      ],
      "source": [
        "df.describe(include=np.object) # statistic about categorical data features in dataset."
      ]
    },
    {
      "cell_type": "markdown",
      "metadata": {
        "id": "E1-BKfHFF6ss"
      },
      "source": [
        "insights:\n",
        "\n",
        "unique_id and date_time_of_pick features will identify unique datapoint in the dataset. however, the frequency count is 457 for unique_id and 3 for date_time_of_pickup."
      ]
    },
    {
      "cell_type": "code",
      "execution_count": null,
      "metadata": {
        "id": "s37Hs21KIRt1"
      },
      "outputs": [],
      "source": [
        "#Converting date_time_of_pickup from object type to TimpeStamp type\n",
        "df[\"date_time_of_pickup\"]= pd.to_datetime(df[\"date_time_of_pickup\"])"
      ]
    },
    {
      "cell_type": "code",
      "execution_count": null,
      "metadata": {
        "colab": {
          "base_uri": "https://localhost:8080/"
        },
        "id": "1GX_KL6nI2Ds",
        "outputId": "ad396d12-20c9-44d6-eef4-c33e8853944e"
      },
      "outputs": [
        {
          "output_type": "stream",
          "name": "stdout",
          "text": [
            "<class 'pandas.core.frame.DataFrame'>\n",
            "RangeIndex: 50000 entries, 0 to 49999\n",
            "Data columns (total 8 columns):\n",
            " #   Column                Non-Null Count  Dtype              \n",
            "---  ------                --------------  -----              \n",
            " 0   unique_id             50000 non-null  object             \n",
            " 1   amount                50000 non-null  float64            \n",
            " 2   date_time_of_pickup   50000 non-null  datetime64[ns, UTC]\n",
            " 3   longitude_of_pickup   50000 non-null  float64            \n",
            " 4   latitude_of_pickup    50000 non-null  float64            \n",
            " 5   longitude_of_dropoff  50000 non-null  float64            \n",
            " 6   latitude_of_dropoff   50000 non-null  float64            \n",
            " 7   no_of_passenger       50000 non-null  int64              \n",
            "dtypes: datetime64[ns, UTC](1), float64(5), int64(1), object(1)\n",
            "memory usage: 3.1+ MB\n"
          ]
        }
      ],
      "source": [
        "df.info()"
      ]
    },
    {
      "cell_type": "code",
      "execution_count": null,
      "metadata": {
        "colab": {
          "base_uri": "https://localhost:8080/"
        },
        "id": "nUjqyXoQmzoR",
        "outputId": "f53e35a5-77cc-4a79-e72a-f18f52708581"
      },
      "outputs": [
        {
          "output_type": "execute_result",
          "data": {
            "text/plain": [
              "unique_id               0\n",
              "amount                  0\n",
              "date_time_of_pickup     0\n",
              "longitude_of_pickup     0\n",
              "latitude_of_pickup      0\n",
              "longitude_of_dropoff    0\n",
              "latitude_of_dropoff     0\n",
              "no_of_passenger         0\n",
              "dtype: int64"
            ]
          },
          "metadata": {},
          "execution_count": 110
        }
      ],
      "source": [
        "df.isnull().sum()"
      ]
    },
    {
      "cell_type": "markdown",
      "metadata": {
        "id": "XssFPc0rJlwO"
      },
      "source": [
        "insights:\n",
        "\n",
        "We can see that there is zero missing value in the dataset."
      ]
    },
    {
      "cell_type": "markdown",
      "metadata": {
        "id": "81FSN4T6KBmB"
      },
      "source": [
        "4. Data investigation"
      ]
    },
    {
      "cell_type": "code",
      "execution_count": null,
      "metadata": {
        "colab": {
          "base_uri": "https://localhost:8080/",
          "height": 81
        },
        "id": "VYwVBnIXKklC",
        "outputId": "cc7b7685-972d-4ac5-e09b-1030f26ec386"
      },
      "outputs": [
        {
          "output_type": "execute_result",
          "data": {
            "text/plain": [
              "      unique_id  amount       date_time_of_pickup  longitude_of_pickup  \\\n",
              "16875   08:16.0    16.5 2012-02-18 01:08:16+00:00                  0.0   \n",
              "\n",
              "       latitude_of_pickup  longitude_of_dropoff  latitude_of_dropoff  \\\n",
              "16875                 0.0                   0.0                  0.0   \n",
              "\n",
              "       no_of_passenger  \n",
              "16875                1  "
            ],
            "text/html": [
              "\n",
              "  <div id=\"df-e245306f-6f4a-4db0-9517-0fbab1663910\">\n",
              "    <div class=\"colab-df-container\">\n",
              "      <div>\n",
              "<style scoped>\n",
              "    .dataframe tbody tr th:only-of-type {\n",
              "        vertical-align: middle;\n",
              "    }\n",
              "\n",
              "    .dataframe tbody tr th {\n",
              "        vertical-align: top;\n",
              "    }\n",
              "\n",
              "    .dataframe thead th {\n",
              "        text-align: right;\n",
              "    }\n",
              "</style>\n",
              "<table border=\"1\" class=\"dataframe\">\n",
              "  <thead>\n",
              "    <tr style=\"text-align: right;\">\n",
              "      <th></th>\n",
              "      <th>unique_id</th>\n",
              "      <th>amount</th>\n",
              "      <th>date_time_of_pickup</th>\n",
              "      <th>longitude_of_pickup</th>\n",
              "      <th>latitude_of_pickup</th>\n",
              "      <th>longitude_of_dropoff</th>\n",
              "      <th>latitude_of_dropoff</th>\n",
              "      <th>no_of_passenger</th>\n",
              "    </tr>\n",
              "  </thead>\n",
              "  <tbody>\n",
              "    <tr>\n",
              "      <th>16875</th>\n",
              "      <td>08:16.0</td>\n",
              "      <td>16.5</td>\n",
              "      <td>2012-02-18 01:08:16+00:00</td>\n",
              "      <td>0.0</td>\n",
              "      <td>0.0</td>\n",
              "      <td>0.0</td>\n",
              "      <td>0.0</td>\n",
              "      <td>1</td>\n",
              "    </tr>\n",
              "  </tbody>\n",
              "</table>\n",
              "</div>\n",
              "      <button class=\"colab-df-convert\" onclick=\"convertToInteractive('df-e245306f-6f4a-4db0-9517-0fbab1663910')\"\n",
              "              title=\"Convert this dataframe to an interactive table.\"\n",
              "              style=\"display:none;\">\n",
              "        \n",
              "  <svg xmlns=\"http://www.w3.org/2000/svg\" height=\"24px\"viewBox=\"0 0 24 24\"\n",
              "       width=\"24px\">\n",
              "    <path d=\"M0 0h24v24H0V0z\" fill=\"none\"/>\n",
              "    <path d=\"M18.56 5.44l.94 2.06.94-2.06 2.06-.94-2.06-.94-.94-2.06-.94 2.06-2.06.94zm-11 1L8.5 8.5l.94-2.06 2.06-.94-2.06-.94L8.5 2.5l-.94 2.06-2.06.94zm10 10l.94 2.06.94-2.06 2.06-.94-2.06-.94-.94-2.06-.94 2.06-2.06.94z\"/><path d=\"M17.41 7.96l-1.37-1.37c-.4-.4-.92-.59-1.43-.59-.52 0-1.04.2-1.43.59L10.3 9.45l-7.72 7.72c-.78.78-.78 2.05 0 2.83L4 21.41c.39.39.9.59 1.41.59.51 0 1.02-.2 1.41-.59l7.78-7.78 2.81-2.81c.8-.78.8-2.07 0-2.86zM5.41 20L4 18.59l7.72-7.72 1.47 1.35L5.41 20z\"/>\n",
              "  </svg>\n",
              "      </button>\n",
              "      \n",
              "  <style>\n",
              "    .colab-df-container {\n",
              "      display:flex;\n",
              "      flex-wrap:wrap;\n",
              "      gap: 12px;\n",
              "    }\n",
              "\n",
              "    .colab-df-convert {\n",
              "      background-color: #E8F0FE;\n",
              "      border: none;\n",
              "      border-radius: 50%;\n",
              "      cursor: pointer;\n",
              "      display: none;\n",
              "      fill: #1967D2;\n",
              "      height: 32px;\n",
              "      padding: 0 0 0 0;\n",
              "      width: 32px;\n",
              "    }\n",
              "\n",
              "    .colab-df-convert:hover {\n",
              "      background-color: #E2EBFA;\n",
              "      box-shadow: 0px 1px 2px rgba(60, 64, 67, 0.3), 0px 1px 3px 1px rgba(60, 64, 67, 0.15);\n",
              "      fill: #174EA6;\n",
              "    }\n",
              "\n",
              "    [theme=dark] .colab-df-convert {\n",
              "      background-color: #3B4455;\n",
              "      fill: #D2E3FC;\n",
              "    }\n",
              "\n",
              "    [theme=dark] .colab-df-convert:hover {\n",
              "      background-color: #434B5C;\n",
              "      box-shadow: 0px 1px 3px 1px rgba(0, 0, 0, 0.15);\n",
              "      filter: drop-shadow(0px 1px 2px rgba(0, 0, 0, 0.3));\n",
              "      fill: #FFFFFF;\n",
              "    }\n",
              "  </style>\n",
              "\n",
              "      <script>\n",
              "        const buttonEl =\n",
              "          document.querySelector('#df-e245306f-6f4a-4db0-9517-0fbab1663910 button.colab-df-convert');\n",
              "        buttonEl.style.display =\n",
              "          google.colab.kernel.accessAllowed ? 'block' : 'none';\n",
              "\n",
              "        async function convertToInteractive(key) {\n",
              "          const element = document.querySelector('#df-e245306f-6f4a-4db0-9517-0fbab1663910');\n",
              "          const dataTable =\n",
              "            await google.colab.kernel.invokeFunction('convertToInteractive',\n",
              "                                                     [key], {});\n",
              "          if (!dataTable) return;\n",
              "\n",
              "          const docLinkHtml = 'Like what you see? Visit the ' +\n",
              "            '<a target=\"_blank\" href=https://colab.research.google.com/notebooks/data_table.ipynb>data table notebook</a>'\n",
              "            + ' to learn more about interactive tables.';\n",
              "          element.innerHTML = '';\n",
              "          dataTable['output_type'] = 'display_data';\n",
              "          await google.colab.output.renderOutput(dataTable, element);\n",
              "          const docLink = document.createElement('div');\n",
              "          docLink.innerHTML = docLinkHtml;\n",
              "          element.appendChild(docLink);\n",
              "        }\n",
              "      </script>\n",
              "    </div>\n",
              "  </div>\n",
              "  "
            ]
          },
          "metadata": {},
          "execution_count": 111
        }
      ],
      "source": [
        "# The geographic coordinate is rounded to the 4 decimal place.\n",
        "df.longitude_of_pickup  = round(df.longitude_of_pickup.astype(float),4)\n",
        "df.latitude_of_pickup   = round(df.latitude_of_pickup.astype(float),4)\n",
        "df.longitude_of_dropoff = round(df.longitude_of_dropoff.astype(float),4)\n",
        "df.latitude_of_dropoff  = round(df.\tlatitude_of_dropoff.astype(float),4)\n",
        "df.sample()\n"
      ]
    },
    {
      "cell_type": "code",
      "execution_count": null,
      "metadata": {
        "id": "bIajCG7G--AW"
      },
      "outputs": [],
      "source": [
        "# we will extract time feature from the \"date_time_of_pickup\"\n",
        "# we will add a variable which measures the distance between pickup and drop\n",
        "df= df.assign(hour = df.date_time_of_pickup.dt.hour,\n",
        "              day= df.date_time_of_pickup.dt.day,\n",
        "              month = df.date_time_of_pickup.dt.month,\n",
        "              year = df.date_time_of_pickup.dt.year,\n",
        "              dayofweek = df.date_time_of_pickup.dt.dayofweek)\n"
      ]
    },
    {
      "cell_type": "code",
      "execution_count": null,
      "metadata": {
        "id": "JypM8JFdUBPs",
        "colab": {
          "base_uri": "https://localhost:8080/"
        },
        "outputId": "0c23ffb5-3e7b-412a-88dc-58e75ce029a0"
      },
      "outputs": [
        {
          "output_type": "stream",
          "name": "stdout",
          "text": [
            "<class 'pandas.core.frame.DataFrame'>\n",
            "RangeIndex: 50000 entries, 0 to 49999\n",
            "Data columns (total 13 columns):\n",
            " #   Column                Non-Null Count  Dtype              \n",
            "---  ------                --------------  -----              \n",
            " 0   unique_id             50000 non-null  object             \n",
            " 1   amount                50000 non-null  float64            \n",
            " 2   date_time_of_pickup   50000 non-null  datetime64[ns, UTC]\n",
            " 3   longitude_of_pickup   50000 non-null  float64            \n",
            " 4   latitude_of_pickup    50000 non-null  float64            \n",
            " 5   longitude_of_dropoff  50000 non-null  float64            \n",
            " 6   latitude_of_dropoff   50000 non-null  float64            \n",
            " 7   no_of_passenger       50000 non-null  int64              \n",
            " 8   hour                  50000 non-null  int64              \n",
            " 9   day                   50000 non-null  int64              \n",
            " 10  month                 50000 non-null  int64              \n",
            " 11  year                  50000 non-null  int64              \n",
            " 12  dayofweek             50000 non-null  int64              \n",
            "dtypes: datetime64[ns, UTC](1), float64(5), int64(6), object(1)\n",
            "memory usage: 5.0+ MB\n"
          ]
        }
      ],
      "source": [
        "df.info()"
      ]
    },
    {
      "cell_type": "markdown",
      "metadata": {
        "id": "PVezjNWQo2Wd"
      },
      "source": [
        "computing the distance between Latitude and Longitude"
      ]
    },
    {
      "cell_type": "markdown",
      "metadata": {
        "id": "CYGC760Ho8e3"
      },
      "source": [
        "The shortest distance between any two locations on a sphere is known as the great circle distance.\n",
        "\n",
        "Using the Haversine Formula, we can determine the distance between two spots in this colab.\n",
        "\n",
        "The latitude and longitude values need first be converted from decimal degrees to radians.\n",
        "\n",
        "Divide the longitude and latitude values of the two sites by 180/pi to achieve this.\n",
        "\n",
        "Use a radius of 6371 for your calculations.\n"
      ]
    },
    {
      "cell_type": "code",
      "execution_count": null,
      "metadata": {
        "id": "N3jBL_i-jtha"
      },
      "outputs": [],
      "source": [
        "# Heversine formula\n",
        "# hav(θ) = sin**2(θ/2).\n",
        "\n",
        "from math import *\n",
        "\n",
        "def distance(lon1, lon2, lat1 , lat2):\n",
        "\n",
        "    travel_dist=[]\n",
        "\n",
        "    for i in range(len(lon1)):\n",
        "        long1,lati1,long2,lati2=map(radians,[lon1[i],lon2[i],lat1[i],lat2[i]])\n",
        "        dist_long = long2-long1\n",
        "        dist_lati = lati2-lati1\n",
        "        a=sin(dist_lati/2)**2 + cos(lati1)* cos(lati2) * sin(dist_long/2)**2\n",
        "        c=2*asin(sqrt(a))*6371\n",
        "        travel_dist.append(c)\n",
        "\n",
        "    return travel_dist   \n",
        "\n"
      ]
    },
    {
      "cell_type": "code",
      "execution_count": null,
      "metadata": {
        "id": "hPWSsfRNWa0U"
      },
      "outputs": [],
      "source": [
        "df[\"dist_travel_km\"]= distance(df[\"longitude_of_pickup\"].to_numpy(),\n",
        "                                df[\"latitude_of_pickup\"].to_numpy(),\n",
        "                                df[\"longitude_of_dropoff\"].to_numpy(),\n",
        "                                df[\"latitude_of_dropoff\"].to_numpy())\n"
      ]
    },
    {
      "cell_type": "code",
      "execution_count": null,
      "metadata": {
        "id": "IKg_7Da8YHcw"
      },
      "outputs": [],
      "source": [
        "# now we can drop the pickup_datetime variable beacause now we got the distance \n",
        "#and it becomes redundant now.\n",
        "df=df.drop('date_time_of_pickup',axis=1)\n",
        "\n"
      ]
    },
    {
      "cell_type": "code",
      "execution_count": null,
      "metadata": {
        "colab": {
          "base_uri": "https://localhost:8080/"
        },
        "id": "3BT5khY0Wrfq",
        "outputId": "baae15a4-f838-463e-ec92-3056e960d2c0"
      },
      "outputs": [
        {
          "output_type": "stream",
          "name": "stdout",
          "text": [
            "<class 'pandas.core.frame.DataFrame'>\n",
            "RangeIndex: 50000 entries, 0 to 49999\n",
            "Data columns (total 13 columns):\n",
            " #   Column                Non-Null Count  Dtype  \n",
            "---  ------                --------------  -----  \n",
            " 0   unique_id             50000 non-null  object \n",
            " 1   amount                50000 non-null  float64\n",
            " 2   longitude_of_pickup   50000 non-null  float64\n",
            " 3   latitude_of_pickup    50000 non-null  float64\n",
            " 4   longitude_of_dropoff  50000 non-null  float64\n",
            " 5   latitude_of_dropoff   50000 non-null  float64\n",
            " 6   no_of_passenger       50000 non-null  int64  \n",
            " 7   hour                  50000 non-null  int64  \n",
            " 8   day                   50000 non-null  int64  \n",
            " 9   month                 50000 non-null  int64  \n",
            " 10  year                  50000 non-null  int64  \n",
            " 11  dayofweek             50000 non-null  int64  \n",
            " 12  dist_travel_km        50000 non-null  float64\n",
            "dtypes: float64(6), int64(6), object(1)\n",
            "memory usage: 5.0+ MB\n"
          ]
        }
      ],
      "source": [
        "df.info()"
      ]
    },
    {
      "cell_type": "code",
      "execution_count": null,
      "metadata": {
        "colab": {
          "base_uri": "https://localhost:8080/"
        },
        "id": "-88NpB-Aoe5S",
        "outputId": "fc43b096-7472-4fbc-b016-3488b7b129d0"
      },
      "outputs": [
        {
          "output_type": "execute_result",
          "data": {
            "text/plain": [
              "Index(['unique_id'], dtype='object')"
            ]
          },
          "metadata": {},
          "execution_count": 118
        }
      ],
      "source": [
        "df.columns[df.dtypes=='object'] # there is no cato data"
      ]
    },
    {
      "cell_type": "code",
      "execution_count": null,
      "metadata": {
        "colab": {
          "base_uri": "https://localhost:8080/",
          "height": 206
        },
        "id": "9de2Fni-Z4p3",
        "outputId": "9add9fb4-8c9a-4858-9770-d5d2139f5bd0"
      },
      "outputs": [
        {
          "output_type": "execute_result",
          "data": {
            "text/plain": [
              "  unique_id  amount  longitude_of_pickup  latitude_of_pickup  \\\n",
              "0   26:21.0     4.5             -73.8443             40.7213   \n",
              "1   52:16.0    16.9             -74.0160             40.7113   \n",
              "2   35:00.0     5.7             -73.9827             40.7613   \n",
              "3   30:42.0     7.7             -73.9871             40.7331   \n",
              "4   51:00.0     5.3             -73.9681             40.7680   \n",
              "\n",
              "   longitude_of_dropoff  latitude_of_dropoff  no_of_passenger  hour  day  \\\n",
              "0              -73.8416              40.7123                1    17   15   \n",
              "1              -73.9793              40.7820                1    16    5   \n",
              "2              -73.9912              40.7506                2     0   18   \n",
              "3              -73.9916              40.7581                1     4   21   \n",
              "4              -73.9567              40.7838                1     7    9   \n",
              "\n",
              "   month  year  dayofweek  dist_travel_km  \n",
              "0      6  2009          0        1.026299  \n",
              "1      1  2010          1        8.447561  \n",
              "2      8  2011          3        1.388589  \n",
              "3      4  2012          5        2.805603  \n",
              "4      3  2010          1        2.002023  "
            ],
            "text/html": [
              "\n",
              "  <div id=\"df-b865db7b-0fd1-46f1-9596-e490a9416a7b\">\n",
              "    <div class=\"colab-df-container\">\n",
              "      <div>\n",
              "<style scoped>\n",
              "    .dataframe tbody tr th:only-of-type {\n",
              "        vertical-align: middle;\n",
              "    }\n",
              "\n",
              "    .dataframe tbody tr th {\n",
              "        vertical-align: top;\n",
              "    }\n",
              "\n",
              "    .dataframe thead th {\n",
              "        text-align: right;\n",
              "    }\n",
              "</style>\n",
              "<table border=\"1\" class=\"dataframe\">\n",
              "  <thead>\n",
              "    <tr style=\"text-align: right;\">\n",
              "      <th></th>\n",
              "      <th>unique_id</th>\n",
              "      <th>amount</th>\n",
              "      <th>longitude_of_pickup</th>\n",
              "      <th>latitude_of_pickup</th>\n",
              "      <th>longitude_of_dropoff</th>\n",
              "      <th>latitude_of_dropoff</th>\n",
              "      <th>no_of_passenger</th>\n",
              "      <th>hour</th>\n",
              "      <th>day</th>\n",
              "      <th>month</th>\n",
              "      <th>year</th>\n",
              "      <th>dayofweek</th>\n",
              "      <th>dist_travel_km</th>\n",
              "    </tr>\n",
              "  </thead>\n",
              "  <tbody>\n",
              "    <tr>\n",
              "      <th>0</th>\n",
              "      <td>26:21.0</td>\n",
              "      <td>4.5</td>\n",
              "      <td>-73.8443</td>\n",
              "      <td>40.7213</td>\n",
              "      <td>-73.8416</td>\n",
              "      <td>40.7123</td>\n",
              "      <td>1</td>\n",
              "      <td>17</td>\n",
              "      <td>15</td>\n",
              "      <td>6</td>\n",
              "      <td>2009</td>\n",
              "      <td>0</td>\n",
              "      <td>1.026299</td>\n",
              "    </tr>\n",
              "    <tr>\n",
              "      <th>1</th>\n",
              "      <td>52:16.0</td>\n",
              "      <td>16.9</td>\n",
              "      <td>-74.0160</td>\n",
              "      <td>40.7113</td>\n",
              "      <td>-73.9793</td>\n",
              "      <td>40.7820</td>\n",
              "      <td>1</td>\n",
              "      <td>16</td>\n",
              "      <td>5</td>\n",
              "      <td>1</td>\n",
              "      <td>2010</td>\n",
              "      <td>1</td>\n",
              "      <td>8.447561</td>\n",
              "    </tr>\n",
              "    <tr>\n",
              "      <th>2</th>\n",
              "      <td>35:00.0</td>\n",
              "      <td>5.7</td>\n",
              "      <td>-73.9827</td>\n",
              "      <td>40.7613</td>\n",
              "      <td>-73.9912</td>\n",
              "      <td>40.7506</td>\n",
              "      <td>2</td>\n",
              "      <td>0</td>\n",
              "      <td>18</td>\n",
              "      <td>8</td>\n",
              "      <td>2011</td>\n",
              "      <td>3</td>\n",
              "      <td>1.388589</td>\n",
              "    </tr>\n",
              "    <tr>\n",
              "      <th>3</th>\n",
              "      <td>30:42.0</td>\n",
              "      <td>7.7</td>\n",
              "      <td>-73.9871</td>\n",
              "      <td>40.7331</td>\n",
              "      <td>-73.9916</td>\n",
              "      <td>40.7581</td>\n",
              "      <td>1</td>\n",
              "      <td>4</td>\n",
              "      <td>21</td>\n",
              "      <td>4</td>\n",
              "      <td>2012</td>\n",
              "      <td>5</td>\n",
              "      <td>2.805603</td>\n",
              "    </tr>\n",
              "    <tr>\n",
              "      <th>4</th>\n",
              "      <td>51:00.0</td>\n",
              "      <td>5.3</td>\n",
              "      <td>-73.9681</td>\n",
              "      <td>40.7680</td>\n",
              "      <td>-73.9567</td>\n",
              "      <td>40.7838</td>\n",
              "      <td>1</td>\n",
              "      <td>7</td>\n",
              "      <td>9</td>\n",
              "      <td>3</td>\n",
              "      <td>2010</td>\n",
              "      <td>1</td>\n",
              "      <td>2.002023</td>\n",
              "    </tr>\n",
              "  </tbody>\n",
              "</table>\n",
              "</div>\n",
              "      <button class=\"colab-df-convert\" onclick=\"convertToInteractive('df-b865db7b-0fd1-46f1-9596-e490a9416a7b')\"\n",
              "              title=\"Convert this dataframe to an interactive table.\"\n",
              "              style=\"display:none;\">\n",
              "        \n",
              "  <svg xmlns=\"http://www.w3.org/2000/svg\" height=\"24px\"viewBox=\"0 0 24 24\"\n",
              "       width=\"24px\">\n",
              "    <path d=\"M0 0h24v24H0V0z\" fill=\"none\"/>\n",
              "    <path d=\"M18.56 5.44l.94 2.06.94-2.06 2.06-.94-2.06-.94-.94-2.06-.94 2.06-2.06.94zm-11 1L8.5 8.5l.94-2.06 2.06-.94-2.06-.94L8.5 2.5l-.94 2.06-2.06.94zm10 10l.94 2.06.94-2.06 2.06-.94-2.06-.94-.94-2.06-.94 2.06-2.06.94z\"/><path d=\"M17.41 7.96l-1.37-1.37c-.4-.4-.92-.59-1.43-.59-.52 0-1.04.2-1.43.59L10.3 9.45l-7.72 7.72c-.78.78-.78 2.05 0 2.83L4 21.41c.39.39.9.59 1.41.59.51 0 1.02-.2 1.41-.59l7.78-7.78 2.81-2.81c.8-.78.8-2.07 0-2.86zM5.41 20L4 18.59l7.72-7.72 1.47 1.35L5.41 20z\"/>\n",
              "  </svg>\n",
              "      </button>\n",
              "      \n",
              "  <style>\n",
              "    .colab-df-container {\n",
              "      display:flex;\n",
              "      flex-wrap:wrap;\n",
              "      gap: 12px;\n",
              "    }\n",
              "\n",
              "    .colab-df-convert {\n",
              "      background-color: #E8F0FE;\n",
              "      border: none;\n",
              "      border-radius: 50%;\n",
              "      cursor: pointer;\n",
              "      display: none;\n",
              "      fill: #1967D2;\n",
              "      height: 32px;\n",
              "      padding: 0 0 0 0;\n",
              "      width: 32px;\n",
              "    }\n",
              "\n",
              "    .colab-df-convert:hover {\n",
              "      background-color: #E2EBFA;\n",
              "      box-shadow: 0px 1px 2px rgba(60, 64, 67, 0.3), 0px 1px 3px 1px rgba(60, 64, 67, 0.15);\n",
              "      fill: #174EA6;\n",
              "    }\n",
              "\n",
              "    [theme=dark] .colab-df-convert {\n",
              "      background-color: #3B4455;\n",
              "      fill: #D2E3FC;\n",
              "    }\n",
              "\n",
              "    [theme=dark] .colab-df-convert:hover {\n",
              "      background-color: #434B5C;\n",
              "      box-shadow: 0px 1px 3px 1px rgba(0, 0, 0, 0.15);\n",
              "      filter: drop-shadow(0px 1px 2px rgba(0, 0, 0, 0.3));\n",
              "      fill: #FFFFFF;\n",
              "    }\n",
              "  </style>\n",
              "\n",
              "      <script>\n",
              "        const buttonEl =\n",
              "          document.querySelector('#df-b865db7b-0fd1-46f1-9596-e490a9416a7b button.colab-df-convert');\n",
              "        buttonEl.style.display =\n",
              "          google.colab.kernel.accessAllowed ? 'block' : 'none';\n",
              "\n",
              "        async function convertToInteractive(key) {\n",
              "          const element = document.querySelector('#df-b865db7b-0fd1-46f1-9596-e490a9416a7b');\n",
              "          const dataTable =\n",
              "            await google.colab.kernel.invokeFunction('convertToInteractive',\n",
              "                                                     [key], {});\n",
              "          if (!dataTable) return;\n",
              "\n",
              "          const docLinkHtml = 'Like what you see? Visit the ' +\n",
              "            '<a target=\"_blank\" href=https://colab.research.google.com/notebooks/data_table.ipynb>data table notebook</a>'\n",
              "            + ' to learn more about interactive tables.';\n",
              "          element.innerHTML = '';\n",
              "          dataTable['output_type'] = 'display_data';\n",
              "          await google.colab.output.renderOutput(dataTable, element);\n",
              "          const docLink = document.createElement('div');\n",
              "          docLink.innerHTML = docLinkHtml;\n",
              "          element.appendChild(docLink);\n",
              "        }\n",
              "      </script>\n",
              "    </div>\n",
              "  </div>\n",
              "  "
            ]
          },
          "metadata": {},
          "execution_count": 119
        }
      ],
      "source": [
        "df.head()"
      ]
    },
    {
      "cell_type": "code",
      "execution_count": null,
      "metadata": {
        "colab": {
          "base_uri": "https://localhost:8080/"
        },
        "id": "F1Hriu9zaIgS",
        "outputId": "c6722b8a-bc23-44c1-f499-0b3ef2300fc0"
      },
      "outputs": [
        {
          "output_type": "execute_result",
          "data": {
            "text/plain": [
              "-5.0"
            ]
          },
          "metadata": {},
          "execution_count": 120
        }
      ],
      "source": [
        "df.amount.min()"
      ]
    },
    {
      "cell_type": "markdown",
      "metadata": {
        "id": "LS-ZZR5Xx6oF"
      },
      "source": [
        "5. Data Visualization"
      ]
    },
    {
      "cell_type": "code",
      "execution_count": null,
      "metadata": {
        "colab": {
          "base_uri": "https://localhost:8080/",
          "height": 1000
        },
        "id": "eoKbImqhvVSO",
        "outputId": "c7c0eaf8-8547-4b9c-e030-62f7b7bc071d"
      },
      "outputs": [
        {
          "output_type": "execute_result",
          "data": {
            "text/plain": [
              "array([[<matplotlib.axes._subplots.AxesSubplot object at 0x7f4e6a0b9430>,\n",
              "        <matplotlib.axes._subplots.AxesSubplot object at 0x7f4e69b8e0a0>,\n",
              "        <matplotlib.axes._subplots.AxesSubplot object at 0x7f4e69ed2460>],\n",
              "       [<matplotlib.axes._subplots.AxesSubplot object at 0x7f4e69f00400>,\n",
              "        <matplotlib.axes._subplots.AxesSubplot object at 0x7f4e69ead7f0>,\n",
              "        <matplotlib.axes._subplots.AxesSubplot object at 0x7f4e69fdbb20>],\n",
              "       [<matplotlib.axes._subplots.AxesSubplot object at 0x7f4e69fdbc10>,\n",
              "        <matplotlib.axes._subplots.AxesSubplot object at 0x7f4e69f960a0>,\n",
              "        <matplotlib.axes._subplots.AxesSubplot object at 0x7f4e69f707f0>],\n",
              "       [<matplotlib.axes._subplots.AxesSubplot object at 0x7f4e69f1fbe0>,\n",
              "        <matplotlib.axes._subplots.AxesSubplot object at 0x7f4e69e4efd0>,\n",
              "        <matplotlib.axes._subplots.AxesSubplot object at 0x7f4e69e06400>]],\n",
              "      dtype=object)"
            ]
          },
          "metadata": {},
          "execution_count": 121
        },
        {
          "output_type": "display_data",
          "data": {
            "text/plain": [
              "<Figure size 1440x1440 with 12 Axes>"
            ],
            "image/png": "[encoded data removed]"
          },
          "metadata": {
            "needs_background": "light"
          }
        }
      ],
      "source": [
        "df.hist(figsize=(20,20))"
      ]
    },
    {
      "cell_type": "markdown",
      "metadata": {
        "id": "rAhjh1hNrIIB"
      },
      "source": [
        "insights:\n",
        "\n",
        "Amount data distribution is right skewed.\n",
        "\n",
        "More no's of booking is done by single passenger.\n",
        "\n",
        "maximum date_time_pickup done between 2012 to 2014"
      ]
    },
    {
      "cell_type": "code",
      "execution_count": null,
      "metadata": {
        "colab": {
          "base_uri": "https://localhost:8080/",
          "height": 525
        },
        "id": "I6zEowU5q9G7",
        "outputId": "acb02ccb-0a2f-46d5-9f61-f6ce4254bd52"
      },
      "outputs": [
        {
          "output_type": "display_data",
          "data": {
            "text/plain": [
              "<Figure size 1296x504 with 2 Axes>"
            ],
            "image/png": "[encoded data removed]"
          },
          "metadata": {
            "needs_background": "light"
          }
        }
      ],
      "source": [
        "plt.figure(figsize = (18, 7))\n",
        "sn.heatmap(df.corr(), annot = True, fmt = '0.2f', annot_kws = {'size' : 15}, linewidth = 2, linecolor = 'orange')\n",
        "plt.show()"
      ]
    },
    {
      "cell_type": "markdown",
      "metadata": {
        "id": "2oZGprj2r0TA"
      },
      "source": [
        "insights:\n",
        "\n",
        "no_of_passenger and amount features are correlated with all the others features"
      ]
    },
    {
      "cell_type": "code",
      "execution_count": null,
      "metadata": {
        "colab": {
          "base_uri": "https://localhost:8080/",
          "height": 410
        },
        "id": "FkT48Fgfrmyj",
        "outputId": "2f5bd689-eed8-4453-8763-a652fb43dfea"
      },
      "outputs": [
        {
          "output_type": "stream",
          "name": "stderr",
          "text": [
            "/usr/local/lib/python3.8/dist-packages/seaborn/_decorators.py:36: FutureWarning: Pass the following variable as a keyword arg: x. From version 0.12, the only valid positional argument will be `data`, and passing other arguments without an explicit keyword will result in an error or misinterpretation.\n",
            "  warnings.warn(\n"
          ]
        },
        {
          "output_type": "display_data",
          "data": {
            "text/plain": [
              "<Figure size 720x360 with 1 Axes>"
            ],
            "image/png": "[encoded data removed]"
          },
          "metadata": {
            "needs_background": "light"
          }
        }
      ],
      "source": [
        "# Checking data distribution for passenger_count data\n",
        "\n",
        "fig, ax = plt.subplots(figsize = (10,5))\n",
        "sn.countplot(df.no_of_passenger, ax = ax)\n",
        "ax.set_title('passenger_count data analysis', size = 16)\n",
        "ax.set_xlabel('no_of_passenger', size = 12)\n",
        "ax.set_ylabel('Count', size = 12)\n",
        "ax.grid(axis='y')\n",
        "for p in ax.patches:\n",
        "    ax.annotate('{:.1f}%'.format( (p.get_height() / df.shape[0]) * 100 ), (p.get_x()+0.2, p.get_height()+55))\n",
        "plt.show()"
      ]
    },
    {
      "cell_type": "markdown",
      "metadata": {
        "id": "LeS3wOkAsuSv"
      },
      "source": [
        "insights:\n",
        "\n",
        "Almost 70percent booking done from single passengers"
      ]
    },
    {
      "cell_type": "code",
      "execution_count": null,
      "metadata": {
        "colab": {
          "base_uri": "https://localhost:8080/",
          "height": 518
        },
        "id": "5DkfovtwsZxj",
        "outputId": "e56ab5c9-bcd0-4a06-9f3f-5c2c6f663eeb"
      },
      "outputs": [
        {
          "output_type": "display_data",
          "data": {
            "text/plain": [
              "<Figure size 1080x576 with 1 Axes>"
            ],
            "image/png": "[encoded data removed]"
          },
          "metadata": {
            "needs_background": "light"
          }
        }
      ],
      "source": [
        "plt.figure(figsize=(15,8))\n",
        "df.groupby(\"no_of_passenger\")[\"amount\"].sum().sort_values().plot.barh()\n",
        "plt.xlabel(\"Total Fare($)\",fontsize =13)\n",
        "plt.ylabel(\"Passengers in Taxi\", fontsize =13)\n",
        "plt.title(\"Number of passsenger vs Total Fare of Taxi\", fontsize = 15)\n",
        "plt.show()"
      ]
    },
    {
      "cell_type": "markdown",
      "metadata": {
        "id": "8-Y54-ipxIH6"
      },
      "source": [
        "Insights:\n",
        "\n",
        "As we can see here maximum single passengers total fares is 380000.\n",
        "\n",
        "2 passengers total fare is 100000 and so on"
      ]
    },
    {
      "cell_type": "code",
      "source": [
        "df=df.drop(\"unique_id\",axis=1)"
      ],
      "metadata": {
        "id": "U_2mRKq1p5Pa"
      },
      "execution_count": null,
      "outputs": []
    },
    {
      "cell_type": "code",
      "source": [
        "df=df.drop(\"latitude_of_pickup\",axis=1)"
      ],
      "metadata": {
        "id": "gs4dyUiKqhWA"
      },
      "execution_count": null,
      "outputs": []
    },
    {
      "cell_type": "code",
      "source": [
        "df=df.drop(\"longitude_of_dropoff\",axis=1)"
      ],
      "metadata": {
        "id": "z-UfDcn7qnmn"
      },
      "execution_count": null,
      "outputs": []
    },
    {
      "cell_type": "code",
      "source": [
        "df=df.drop(\"latitude_of_dropoff\",axis=1)"
      ],
      "metadata": {
        "id": "Ojl_RAUHqtrN"
      },
      "execution_count": null,
      "outputs": []
    },
    {
      "cell_type": "code",
      "source": [
        "df=df.drop(\"no_of_passenger\",axis=1)"
      ],
      "metadata": {
        "id": "kSqCYlWOqxMa"
      },
      "execution_count": null,
      "outputs": []
    },
    {
      "cell_type": "code",
      "source": [
        "df=df.drop(\"dist_travel_km\",axis=1)"
      ],
      "metadata": {
        "id": "M9u3h7R6rBIV"
      },
      "execution_count": null,
      "outputs": []
    },
    {
      "cell_type": "code",
      "source": [
        "df=df.drop(\"longitude_of_pickup\",axis=1)"
      ],
      "metadata": {
        "id": "wqregrpRrd0C"
      },
      "execution_count": null,
      "outputs": []
    },
    {
      "cell_type": "code",
      "source": [
        "df.isnull().sum()"
      ],
      "metadata": {
        "colab": {
          "base_uri": "https://localhost:8080/"
        },
        "id": "8_tOaH0Bqbl6",
        "outputId": "8cbd2a08-9667-4802-d09b-e0fd74b94777"
      },
      "execution_count": null,
      "outputs": [
        {
          "output_type": "execute_result",
          "data": {
            "text/plain": [
              "amount             0\n",
              "no_of_passenger    0\n",
              "hour               0\n",
              "day                0\n",
              "month              0\n",
              "year               0\n",
              "dayofweek          0\n",
              "dtype: int64"
            ]
          },
          "metadata": {},
          "execution_count": 131
        }
      ]
    },
    {
      "cell_type": "code",
      "source": [
        "x=df.drop([\"no_of_passenger\"], axis=1)"
      ],
      "metadata": {
        "id": "dmnuFJ75rlG3"
      },
      "execution_count": null,
      "outputs": []
    },
    {
      "cell_type": "code",
      "source": [
        "y= df[\"no_of_passenger\"]"
      ],
      "metadata": {
        "id": "qqkHVuhxrmfs"
      },
      "execution_count": null,
      "outputs": []
    },
    {
      "cell_type": "markdown",
      "source": [
        "## Training a Decision Tree Model"
      ],
      "metadata": {
        "id": "MoCLyIf-tn9F"
      }
    },
    {
      "cell_type": "code",
      "source": [
        "from sklearn.model_selection import train_test_split"
      ],
      "metadata": {
        "id": "2cX2FjYwopKG"
      },
      "execution_count": null,
      "outputs": []
    },
    {
      "cell_type": "code",
      "source": [
        "x_train, x_test, y_train, y_test = train_test_split(x,y, test_size = 0.33)"
      ],
      "metadata": {
        "id": "XWM3AYJWo8hA"
      },
      "execution_count": null,
      "outputs": []
    },
    {
      "cell_type": "markdown",
      "source": [
        "**Create an instance of DecisionTreeClassifier() called dtree and fit it to the training data.**"
      ],
      "metadata": {
        "id": "FZVm15dVtiKp"
      }
    },
    {
      "cell_type": "code",
      "source": [
        "from sklearn.tree import DecisionTreeClassifier"
      ],
      "metadata": {
        "id": "RM_VsTYHpHhs"
      },
      "execution_count": null,
      "outputs": []
    },
    {
      "cell_type": "code",
      "source": [
        "dtree = DecisionTreeClassifier()"
      ],
      "metadata": {
        "id": "yMH72S4ZpQce"
      },
      "execution_count": null,
      "outputs": []
    },
    {
      "cell_type": "code",
      "source": [
        "dtree.fit(x_train,y_train)"
      ],
      "metadata": {
        "colab": {
          "base_uri": "https://localhost:8080/"
        },
        "id": "hLRndo0ypUnF",
        "outputId": "e66ba43d-8787-4f85-e351-19ff81e86c09"
      },
      "execution_count": null,
      "outputs": [
        {
          "output_type": "execute_result",
          "data": {
            "text/plain": [
              "DecisionTreeClassifier()"
            ]
          },
          "metadata": {},
          "execution_count": 139
        }
      ]
    },
    {
      "cell_type": "markdown",
      "source": [
        "## Predictions and Evaluation of Decision Tree"
      ],
      "metadata": {
        "id": "iPo46ls6ttPY"
      }
    },
    {
      "cell_type": "code",
      "source": [
        "predictions = dtree.predict(x_test)"
      ],
      "metadata": {
        "id": "PVKWCZvurSh3"
      },
      "execution_count": null,
      "outputs": []
    },
    {
      "cell_type": "code",
      "source": [
        "from sklearn.metrics import classification_report,confusion_matrix"
      ],
      "metadata": {
        "id": "8wkryfuxtyaQ"
      },
      "execution_count": null,
      "outputs": []
    },
    {
      "cell_type": "code",
      "source": [
        "print(classification_report(y_test,predictions))"
      ],
      "metadata": {
        "colab": {
          "base_uri": "https://localhost:8080/"
        },
        "id": "TUpHMcy7t507",
        "outputId": "876b6115-895d-45b3-fac1-96c2d4ee998a"
      },
      "execution_count": null,
      "outputs": [
        {
          "output_type": "stream",
          "name": "stdout",
          "text": [
            "              precision    recall  f1-score   support\n",
            "\n",
            "           0       0.02      0.02      0.02        62\n",
            "           1       0.71      0.66      0.68     11532\n",
            "           2       0.17      0.19      0.17      2398\n",
            "           3       0.04      0.05      0.05       700\n",
            "           4       0.03      0.03      0.03       342\n",
            "           5       0.07      0.08      0.07      1137\n",
            "           6       0.03      0.03      0.03       329\n",
            "\n",
            "    accuracy                           0.50     16500\n",
            "   macro avg       0.15      0.15      0.15     16500\n",
            "weighted avg       0.53      0.50      0.51     16500\n",
            "\n"
          ]
        }
      ]
    },
    {
      "cell_type": "code",
      "source": [
        "print(confusion_matrix(y_test,predictions))"
      ],
      "metadata": {
        "colab": {
          "base_uri": "https://localhost:8080/"
        },
        "id": "ulLuAv22uAOh",
        "outputId": "415979d5-cfce-4dea-8726-1dcbc53252c7"
      },
      "execution_count": null,
      "outputs": [
        {
          "output_type": "stream",
          "name": "stdout",
          "text": [
            "[[   1   37    9    4    5    5    1]\n",
            " [  48 7615 1811  600  278  934  246]\n",
            " [   8 1495  445  129   79  186   56]\n",
            " [   2  430  124   37   28   58   21]\n",
            " [   2  235   47   14   11   26    7]\n",
            " [   2  737  204   61   25   92   16]\n",
            " [   1  225   51   16    7   19   10]]\n"
          ]
        }
      ]
    },
    {
      "cell_type": "markdown",
      "source": [
        "## Training the Random Forest model"
      ],
      "metadata": {
        "id": "ARSqdScEuM04"
      }
    },
    {
      "cell_type": "code",
      "source": [
        "from sklearn.ensemble import RandomForestClassifier"
      ],
      "metadata": {
        "id": "FnI1KtGQuJ0t"
      },
      "execution_count": null,
      "outputs": []
    },
    {
      "cell_type": "code",
      "source": [
        "rfc = RandomForestClassifier(n_estimators=600)"
      ],
      "metadata": {
        "id": "1upxD8lfuWI3"
      },
      "execution_count": null,
      "outputs": []
    },
    {
      "cell_type": "code",
      "source": [
        "rfc.fit(x_train,y_train)"
      ],
      "metadata": {
        "colab": {
          "base_uri": "https://localhost:8080/"
        },
        "id": "TUpPsM9QublK",
        "outputId": "72e968e6-31b4-4219-db0c-688fc29894b7"
      },
      "execution_count": null,
      "outputs": [
        {
          "output_type": "execute_result",
          "data": {
            "text/plain": [
              "RandomForestClassifier(n_estimators=600)"
            ]
          },
          "metadata": {},
          "execution_count": 147
        }
      ]
    },
    {
      "cell_type": "markdown",
      "source": [
        "## Predictions and Evaluation"
      ],
      "metadata": {
        "id": "CJj53SiXunS7"
      }
    },
    {
      "cell_type": "code",
      "source": [
        "predictions=rfc.predict(x_test)"
      ],
      "metadata": {
        "id": "fn_5kfF6ufZR"
      },
      "execution_count": null,
      "outputs": []
    },
    {
      "cell_type": "code",
      "source": [
        "from sklearn.metrics import classification_report, confusion_matrix"
      ],
      "metadata": {
        "id": "mK4koJ9Wusjp"
      },
      "execution_count": null,
      "outputs": []
    },
    {
      "cell_type": "code",
      "source": [
        "print(classification_report(y_test,predictions))"
      ],
      "metadata": {
        "colab": {
          "base_uri": "https://localhost:8080/"
        },
        "id": "dWvFVLNfu1YG",
        "outputId": "716adc28-2dc2-4162-d827-f427207e7d83"
      },
      "execution_count": null,
      "outputs": [
        {
          "output_type": "stream",
          "name": "stdout",
          "text": [
            "              precision    recall  f1-score   support\n",
            "\n",
            "           0       0.11      0.02      0.03        62\n",
            "           1       0.70      0.96      0.81     11532\n",
            "           2       0.19      0.04      0.06      2398\n",
            "           3       0.00      0.00      0.00       700\n",
            "           4       0.08      0.01      0.02       342\n",
            "           5       0.09      0.01      0.02      1137\n",
            "           6       0.04      0.00      0.01       329\n",
            "\n",
            "    accuracy                           0.67     16500\n",
            "   macro avg       0.17      0.15      0.13     16500\n",
            "weighted avg       0.52      0.67      0.58     16500\n",
            "\n"
          ]
        }
      ]
    },
    {
      "cell_type": "code",
      "source": [
        "print(confusion_matrix(y_test,predictions))"
      ],
      "metadata": {
        "colab": {
          "base_uri": "https://localhost:8080/"
        },
        "id": "R0N6ZaVhu6dW",
        "outputId": "6c2b2133-5f06-4af8-b086-e4e7491bb6a6"
      },
      "execution_count": null,
      "outputs": [
        {
          "output_type": "stream",
          "name": "stdout",
          "text": [
            "[[    1    58     2     0     1     0     0]\n",
            " [    5 11031   308    54    16    98    20]\n",
            " [    1  2274    87    11    10    11     4]\n",
            " [    1   671    21     0     0     7     0]\n",
            " [    0   333     5     1     3     0     0]\n",
            " [    0  1076    39     6     5    11     0]\n",
            " [    1   316     8     0     2     1     1]]\n"
          ]
        }
      ]
    },
    {
      "cell_type": "code",
      "source": [
        "# instantiate the DecisionTreeClassifier model with criterion gini index\n",
        "clf_gini = DecisionTreeClassifier(criterion='gini', max_depth=3, random_state=0)\n",
        "plt.figure(figsize=(20,16))\n",
        "from sklearn import tree\n",
        "tree.plot_tree(clf_gini.fit(x_train, y_train)) "
      ],
      "metadata": {
        "colab": {
          "base_uri": "https://localhost:8080/",
          "height": 1000
        },
        "id": "7mN76CiOvEvl",
        "outputId": "66f864ba-622c-49f4-8d34-67762951464c"
      },
      "execution_count": null,
      "outputs": [
        {
          "output_type": "execute_result",
          "data": {
            "text/plain": [
              "[Text(0.5, 0.875, 'X[5] <= 4.5\\ngini = 0.488\\nsamples = 33500\\nvalue = [103, 23276, 4988, 1483, 674, 2316, 660]'),\n",
              " Text(0.25, 0.625, 'X[1] <= 12.5\\ngini = 0.463\\nsamples = 23979\\nvalue = [77, 17153, 3291, 948, 409, 1628, 473]'),\n",
              " Text(0.125, 0.375, 'X[1] <= 3.5\\ngini = 0.418\\nsamples = 9775\\nvalue = [35, 7327, 1156, 338, 109, 618, 192]'),\n",
              " Text(0.0625, 0.125, 'gini = 0.48\\nsamples = 1653\\nvalue = [2, 1157, 251, 80, 30, 110, 23]'),\n",
              " Text(0.1875, 0.125, 'gini = 0.405\\nsamples = 8122\\nvalue = [33, 6170, 905, 258, 79, 508, 169]'),\n",
              " Text(0.375, 0.375, 'X[4] <= 2011.5\\ngini = 0.491\\nsamples = 14204\\nvalue = [42, 9826, 2135, 610, 300, 1010, 281]'),\n",
              " Text(0.3125, 0.125, 'gini = 0.504\\nsamples = 6708\\nvalue = [22, 4553, 1086, 309, 166, 537, 35]'),\n",
              " Text(0.4375, 0.125, 'gini = 0.479\\nsamples = 7496\\nvalue = [20, 5273, 1049, 301, 134, 473, 246]'),\n",
              " Text(0.75, 0.625, 'X[1] <= 3.5\\ngini = 0.545\\nsamples = 9521\\nvalue = [26, 6123, 1697, 535, 265, 688, 187]'),\n",
              " Text(0.625, 0.375, 'X[1] <= 2.5\\ngini = 0.604\\nsamples = 1873\\nvalue = [4, 1094, 382, 125, 81, 158, 29]'),\n",
              " Text(0.5625, 0.125, 'gini = 0.589\\nsamples = 1538\\nvalue = [1, 920, 311, 103, 64, 117, 22]'),\n",
              " Text(0.6875, 0.125, 'gini = 0.663\\nsamples = 335\\nvalue = [3, 174, 71, 22, 17, 41, 7]'),\n",
              " Text(0.875, 0.375, 'X[4] <= 2011.5\\ngini = 0.529\\nsamples = 7648\\nvalue = [22, 5029, 1315, 410, 184, 530, 158]'),\n",
              " Text(0.8125, 0.125, 'gini = 0.55\\nsamples = 3469\\nvalue = [11, 2202, 659, 206, 82, 293, 16]'),\n",
              " Text(0.9375, 0.125, 'gini = 0.51\\nsamples = 4179\\nvalue = [11, 2827, 656, 204, 102, 237, 142]')]"
            ]
          },
          "metadata": {},
          "execution_count": 162
        },
        {
          "output_type": "display_data",
          "data": {
            "text/plain": [
              "<Figure size 1440x1152 with 1 Axes>"
            ],
            "image/png": "[encoded data removed]"
          },
          "metadata": {
            "needs_background": "light"
          }
        }
      ]
    },
    {
      "cell_type": "code",
      "source": [
        "# instantiate the DecisionTreeClassifier model with criterion entropy\n",
        "clf_en = DecisionTreeClassifier(criterion='entropy', max_depth=3, random_state=0)\n",
        "# fit the model\n",
        "plt.figure(figsize=(12,8))\n",
        "from sklearn import tree\n",
        "tree.plot_tree(clf_en.fit(x_train,y_train))"
      ],
      "metadata": {
        "colab": {
          "base_uri": "https://localhost:8080/",
          "height": 726
        },
        "id": "TPVEG5wYvSVx",
        "outputId": "60c4079d-6fc4-40a2-cb19-9a8222b57009"
      },
      "execution_count": null,
      "outputs": [
        {
          "output_type": "execute_result",
          "data": {
            "text/plain": [
              "[Text(0.5, 0.875, 'X[4] <= 2011.5\\nentropy = 1.49\\nsamples = 33500\\nvalue = [103, 23276, 4988, 1483, 674, 2316, 660]'),\n",
              " Text(0.25, 0.625, 'X[4] <= 2010.5\\nentropy = 1.494\\nsamples = 15563\\nvalue = [61, 10604, 2487, 728, 341, 1253, 89]'),\n",
              " Text(0.125, 0.375, 'X[5] <= 3.5\\nentropy = 1.45\\nsamples = 10253\\nvalue = [0, 7034, 1639, 492, 214, 830, 44]'),\n",
              " Text(0.0625, 0.125, 'entropy = 1.352\\nsamples = 5796\\nvalue = [0, 4158, 819, 240, 104, 457, 18]'),\n",
              " Text(0.1875, 0.125, 'entropy = 1.566\\nsamples = 4457\\nvalue = [0, 2876, 820, 252, 110, 373, 26]'),\n",
              " Text(0.375, 0.375, 'X[5] <= 4.5\\nentropy = 1.559\\nsamples = 5310\\nvalue = [61, 3570, 848, 236, 127, 423, 45]'),\n",
              " Text(0.3125, 0.125, 'entropy = 1.494\\nsamples = 3838\\nvalue = [48, 2674, 550, 148, 79, 301, 38]'),\n",
              " Text(0.4375, 0.125, 'entropy = 1.701\\nsamples = 1472\\nvalue = [13, 896, 298, 88, 48, 122, 7]'),\n",
              " Text(0.75, 0.625, 'X[4] <= 2012.5\\nentropy = 1.47\\nsamples = 17937\\nvalue = [42, 12672, 2501, 755, 333, 1063, 571]'),\n",
              " Text(0.625, 0.375, 'X[3] <= 4.5\\nentropy = 1.524\\nsamples = 5329\\nvalue = [40, 3699, 757, 233, 103, 363, 134]'),\n",
              " Text(0.5625, 0.125, 'entropy = 1.622\\nsamples = 1858\\nvalue = [38, 1249, 261, 62, 38, 159, 51]'),\n",
              " Text(0.6875, 0.125, 'entropy = 1.453\\nsamples = 3471\\nvalue = [2, 2450, 496, 171, 65, 204, 83]'),\n",
              " Text(0.875, 0.375, 'X[5] <= 4.5\\nentropy = 1.441\\nsamples = 12608\\nvalue = [2, 8973, 1744, 522, 230, 700, 437]'),\n",
              " Text(0.8125, 0.125, 'entropy = 1.376\\nsamples = 8941\\nvalue = [1, 6532, 1139, 333, 128, 495, 313]'),\n",
              " Text(0.9375, 0.125, 'entropy = 1.585\\nsamples = 3667\\nvalue = [1, 2441, 605, 189, 102, 205, 124]')]"
            ]
          },
          "metadata": {},
          "execution_count": 160
        },
        {
          "output_type": "display_data",
          "data": {
            "text/plain": [
              "<Figure size 864x576 with 1 Axes>"
            ],
            "image/png": "[encoded data removed]"
          },
          "metadata": {
            "needs_background": "light"
          }
        }
      ]
    },
    {
      "cell_type": "code",
      "source": [],
      "metadata": {
        "id": "9z6F_k8Vv1kO"
      },
      "execution_count": null,
      "outputs": []
    }
  ],
  "metadata": {
    "colab": {
      "provenance": []
    },
    "kernelspec": {
      "display_name": "Python 3",
      "name": "python3"
    },
    "language_info": {
      "name": "python"
    }
  },
  "nbformat": 4,
  "nbformat_minor": 0
}